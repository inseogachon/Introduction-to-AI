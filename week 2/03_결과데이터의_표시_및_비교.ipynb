{
 "cells": [
  {
   "cell_type": "code",
   "execution_count": null,
   "id": "dfd63778-1768-4e40-a16b-ef7d9ca6322e",
   "metadata": {},
   "outputs": [],
   "source": [
    "# 상위 데이터를 불러와서 y_test와 y_pred 비교해보기"
   ]
  },
  {
   "cell_type": "code",
   "execution_count": 10,
   "id": "15bdbdb3-f78c-4042-b9d4-826582ffde37",
   "metadata": {},
   "outputs": [
    {
     "name": "stdout",
     "output_type": "stream",
     "text": [
      "Decision Tree Accuracy: 1.0000\n",
      "y_test:\n",
      " 73     Iris-versicolor\n",
      "18         Iris-setosa\n",
      "118     Iris-virginica\n",
      "78     Iris-versicolor\n",
      "76     Iris-versicolor\n",
      "Name: Name, dtype: object\n",
      "\n",
      "y_pred:\n",
      " ['Iris-versicolor' 'Iris-setosa' 'Iris-virginica' 'Iris-versicolor'\n",
      " 'Iris-versicolor']\n"
     ]
    }
   ],
   "source": [
    "import pandas as pd\n",
    "from sklearn.model_selection import train_test_split\n",
    "from sklearn.tree import DecisionTreeClassifier\n",
    "from sklearn.metrics import accuracy_score\n",
    "from tabulate import tabulate\n",
    "\n",
    "# 1. CSV 파일 불러오기\n",
    "file_path = \"C:/AI/iris.csv\"  # CSV 파일 경로\n",
    "df = pd.read_csv(file_path)\n",
    "\n",
    "# 2. 데이터 전처리 (X: 특성, y: 타겟)\n",
    "X = df.drop(columns=[\"Name\"])  # \"Name\" 컬럼 제외한 나머지를 X로 설정\n",
    "y = df[\"Name\"]  # \"Name\" 컬럼을 y로 설정\n",
    "\n",
    "# 3. 훈련/테스트 데이터 분할 (70% 훈련, 30% 테스트)\n",
    "X_train, X_test, y_train, y_test = train_test_split(X, y, test_size=0.3, random_state=42)\n",
    "\n",
    "# 4. 결정 트리 모델 학습\n",
    "model = DecisionTreeClassifier() \n",
    "model.fit(X_train, y_train)\n",
    "\n",
    "# 5. 예측 및 정확도 평가\n",
    "y_pred = model.predict(X_test)\n",
    "accuracy = accuracy_score(y_test, y_pred)\n",
    "print(f\"Decision Tree Accuracy: {accuracy_DT:.4f}\")\n",
    "\n",
    "print(f\"y_test:\\n {y_test.head()}\\n\")\n",
    "print(f\"y_pred:\\n {y_pred[:5]}\")\n"
   ]
  }
 ],
 "metadata": {
  "kernelspec": {
   "display_name": "Python 3 (ipykernel)",
   "language": "python",
   "name": "python3"
  },
  "language_info": {
   "codemirror_mode": {
    "name": "ipython",
    "version": 3
   },
   "file_extension": ".py",
   "mimetype": "text/x-python",
   "name": "python",
   "nbconvert_exporter": "python",
   "pygments_lexer": "ipython3",
   "version": "3.12.4"
  }
 },
 "nbformat": 4,
 "nbformat_minor": 5
}
