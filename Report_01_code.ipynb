{
 "cells": [
  {
   "cell_type": "code",
   "execution_count": 12,
   "id": "b338400e-ceb9-4f8a-bff9-4d71926af18e",
   "metadata": {},
   "outputs": [
    {
     "name": "stdout",
     "output_type": "stream",
     "text": [
      "Decision Tree Accuracy: 0.9238\n",
      "Random Forest Accuracy: 0.9429\n",
      "Support Vector Machine Accuracy: 0.9619\n",
      "Logistic Regression Accuracy: 0.9619\n"
     ]
    }
   ],
   "source": [
    "import pandas as pd\n",
    "from sklearn.model_selection import train_test_split\n",
    "from sklearn.tree import DecisionTreeClassifier\n",
    "from sklearn.ensemble import RandomForestClassifier\n",
    "from sklearn.svm import SVC\n",
    "from sklearn.linear_model import LogisticRegression\n",
    "from sklearn.metrics import accuracy_score\n",
    "\n",
    "# 1. CSV 파일 불러오기\n",
    "file_path = \"C:/AI/iris.csv\"  # CSV 파일 경로\n",
    "df = pd.read_csv(file_path)\n",
    "\n",
    "# 2. 데이터 전처리 (X: 특성, y: 타겟)\n",
    "X = df.drop(columns=[\"Name\"])  # \"Name\" 컬럼 제외한 나머지를 X로 설정\n",
    "y = df[\"Name\"]  # \"Name\" 컬럼을 y로 설정\n",
    "\n",
    "# 3. 훈련/테스트 데이터 분할 (30% 훈련, 70% 테스트)\n",
    "X_train, X_test, y_train, y_test = train_test_split(X, y, test_size=0.7, random_state=42)\n",
    "\n",
    "# 4. 결정 트리 모델 학습\n",
    "model_DT = DecisionTreeClassifier() \n",
    "model_RF = RandomForestClassifier()\n",
    "model_SVM = SVC()\n",
    "model_LR = LogisticRegression()\n",
    "\n",
    "model_DT.fit(X_train, y_train)\n",
    "model_RF.fit(X_train, y_train)\n",
    "model_SVM.fit(X_train, y_train)\n",
    "model_LR.fit(X_train, y_train)\n",
    "\n",
    "# 5. 예측 및 정확도 평가\n",
    "y_pred_DT = model_DT.predict(X_test)\n",
    "accuracy_DT = accuracy_score(y_test, y_pred_DT)\n",
    "print(f\"Decision Tree Accuracy: {accuracy_DT:.4f}\")\n",
    "\n",
    "y_pred_RF = model_RF.predict(X_test)\n",
    "accuracy_RF = accuracy_score(y_test, y_pred_RF)\n",
    "print(f\"Random Forest Accuracy: {accuracy_RF:.4f}\")\n",
    "\n",
    "y_pred_SVM = model_SVM.predict(X_test)\n",
    "accuracy_SVM = accuracy_score(y_test, y_pred_SVM)\n",
    "print(f\"Support Vector Machine Accuracy: {accuracy_SVM:.4f}\")\n",
    "\n",
    "y_pred_LR = model_LR.predict(X_test)\n",
    "accuracy_LR = accuracy_score(y_test, y_pred_LR)\n",
    "print(f\"Logistic Regression Accuracy: {accuracy_LR:.4f}\")"
   ]
  }
 ],
 "metadata": {
  "kernelspec": {
   "display_name": "Python 3 (ipykernel)",
   "language": "python",
   "name": "python3"
  },
  "language_info": {
   "codemirror_mode": {
    "name": "ipython",
    "version": 3
   },
   "file_extension": ".py",
   "mimetype": "text/x-python",
   "name": "python",
   "nbconvert_exporter": "python",
   "pygments_lexer": "ipython3",
   "version": "3.12.4"
  }
 },
 "nbformat": 4,
 "nbformat_minor": 5
}
